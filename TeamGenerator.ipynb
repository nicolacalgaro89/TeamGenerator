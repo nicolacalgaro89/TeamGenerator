{
 "cells": [
  {
   "cell_type": "markdown",
   "id": "9a855d84-963f-43d0-8e25-99046ddad29e",
   "metadata": {},
   "source": [
    "# Team Generator Subrutine"
   ]
  },
  {
   "cell_type": "markdown",
   "id": "3ffd726b-a7ec-44a6-99f7-d2693f99b044",
   "metadata": {},
   "source": [
    "## Install dependencies if necessary"
   ]
  },
  {
   "cell_type": "code",
   "execution_count": 1,
   "id": "c9aecb2e-7b35-4798-acd2-3ea0d47b4505",
   "metadata": {},
   "outputs": [
    {
     "name": "stdout",
     "output_type": "stream",
     "text": [
      "Requirement already satisfied: pandas in /Library/Frameworks/Python.framework/Versions/3.10/lib/python3.10/site-packages (1.5.3)\n",
      "Requirement already satisfied: numpy>=1.21.0 in /Library/Frameworks/Python.framework/Versions/3.10/lib/python3.10/site-packages (from pandas) (1.24.1)\n",
      "Requirement already satisfied: pytz>=2020.1 in /Library/Frameworks/Python.framework/Versions/3.10/lib/python3.10/site-packages (from pandas) (2022.7.1)\n",
      "Requirement already satisfied: python-dateutil>=2.8.1 in /Library/Frameworks/Python.framework/Versions/3.10/lib/python3.10/site-packages (from pandas) (2.8.2)\n",
      "Requirement already satisfied: six>=1.5 in /Library/Frameworks/Python.framework/Versions/3.10/lib/python3.10/site-packages (from python-dateutil>=2.8.1->pandas) (1.16.0)\n",
      "\n",
      "\u001b[1m[\u001b[0m\u001b[34;49mnotice\u001b[0m\u001b[1;39;49m]\u001b[0m\u001b[39;49m A new release of pip available: \u001b[0m\u001b[31;49m22.2.2\u001b[0m\u001b[39;49m -> \u001b[0m\u001b[32;49m23.3.1\u001b[0m\n",
      "\u001b[1m[\u001b[0m\u001b[34;49mnotice\u001b[0m\u001b[1;39;49m]\u001b[0m\u001b[39;49m To update, run: \u001b[0m\u001b[32;49mpip3 install --upgrade pip\u001b[0m\n",
      "Note: you may need to restart the kernel to use updated packages.\n"
     ]
    }
   ],
   "source": [
    "pip install pandas"
   ]
  },
  {
   "cell_type": "code",
   "execution_count": 2,
   "id": "39d651ab-130c-4ab0-8c2e-f5ee3498ca94",
   "metadata": {},
   "outputs": [
    {
     "name": "stdout",
     "output_type": "stream",
     "text": [
      "Requirement already satisfied: numpy in /Library/Frameworks/Python.framework/Versions/3.10/lib/python3.10/site-packages (1.24.1)\n",
      "\n",
      "\u001b[1m[\u001b[0m\u001b[34;49mnotice\u001b[0m\u001b[1;39;49m]\u001b[0m\u001b[39;49m A new release of pip available: \u001b[0m\u001b[31;49m22.2.2\u001b[0m\u001b[39;49m -> \u001b[0m\u001b[32;49m23.3.1\u001b[0m\n",
      "\u001b[1m[\u001b[0m\u001b[34;49mnotice\u001b[0m\u001b[1;39;49m]\u001b[0m\u001b[39;49m To update, run: \u001b[0m\u001b[32;49mpip3 install --upgrade pip\u001b[0m\n",
      "Note: you may need to restart the kernel to use updated packages.\n"
     ]
    }
   ],
   "source": [
    "pip install numpy"
   ]
  },
  {
   "cell_type": "markdown",
   "id": "c95f7d44-84cb-4ac3-a5ca-fc8c060e1080",
   "metadata": {},
   "source": [
    "## Import Statements:\n",
    "This imports the pandas library as pd and numpy library as np, which are popular Python libraries for data manipulation and numerical computing."
   ]
  },
  {
   "cell_type": "code",
   "execution_count": 3,
   "id": "af327095-f4fa-4d01-bc6c-b6bf3effbf5a",
   "metadata": {},
   "outputs": [],
   "source": [
    "import pandas as pd\n",
    "import numpy as np\n",
    "import ipysheet"
   ]
  },
  {
   "cell_type": "markdown",
   "id": "0e91fd46-16b2-4659-b1c6-9a057451a17d",
   "metadata": {},
   "source": [
    "## Creating a DataFrame with people data:\n",
    "Every person has a Team defined by a number:\n",
    "- If Team != 0 team is fixed for that member. It is necessary to fix at least a capitain for every team.\n",
    "- If Team = 0 let the software choose the teams for you with age optimization\n",
    "  \n",
    "The DataFrame 'df' is sorted by the 'Age' column in ascending order. The 'reset_index' method is used to reset the index of the DataFrame, and 'drop=True' is to avoid adding the old index as a column."
   ]
  },
  {
   "cell_type": "code",
   "execution_count": 4,
   "id": "17004f89-5f25-4df2-a4d2-959ab0fd410b",
   "metadata": {},
   "outputs": [
    {
     "name": "stdout",
     "output_type": "stream",
     "text": [
      "People data: \n",
      "    Person  Age  Team\n",
      "0   Nome25   11     0\n",
      "1   Nome26   12     0\n",
      "2   Nome27   13     0\n",
      "3   Nome28   14     0\n",
      "4   Nome17   15     0\n",
      "5   Nome29   15     0\n",
      "6   Nome11   15     0\n",
      "7   Nome30   16     0\n",
      "8    Nome6   16     0\n",
      "9   Nome10   20     0\n",
      "10  Nome14   20     0\n",
      "11  Nome19   21     0\n",
      "12   Nome5   21     0\n",
      "13  Nome21   21     0\n",
      "14  Nome23   22     0\n",
      "15   Nome3   23     0\n",
      "16   Nome9   24     0\n",
      "17   Nome1   25     1\n",
      "18   Nome7   27     0\n",
      "19  Nome20   31     0\n",
      "20  Nome22   31     0\n",
      "21  Nome24   33     0\n",
      "22   Nome2   34     2\n",
      "23  Nome13   35     0\n",
      "24   Nome4   35     0\n",
      "25  Nome15   35     0\n",
      "26  Nome18   36     0\n",
      "27   Nome8   38     0\n",
      "28  Nome16   40     0\n",
      "29  Nome12   40     0\n"
     ]
    }
   ],
   "source": [
    "# List to hold individual row DataFrames\n",
    "rows = []\n",
    "\n",
    "# Every person has a Team defined by a number:\n",
    "# If Team != 0 team is fixed for that member. It is necessary to fix at least a capitain for every team.\n",
    "# The number of teams depends only on the number of capitains.\n",
    "# If Team = 0 let the software choose the teams for you with age optimization\n",
    "data = [\n",
    "    {'Person': 'Nome1',  'Age': 25, 'Team': 1},\n",
    "    {'Person': 'Nome2',  'Age': 34, 'Team': 2},\n",
    "    {'Person': 'Nome3',  'Age': 23, 'Team': 0},\n",
    "    {'Person': 'Nome4',  'Age': 35, 'Team': 0},\n",
    "    {'Person': 'Nome5',  'Age': 21, 'Team': 0},\n",
    "    {'Person': 'Nome6',  'Age': 16, 'Team': 0},\n",
    "    {'Person': 'Nome7',  'Age': 27, 'Team': 0},\n",
    "    {'Person': 'Nome8',  'Age': 38, 'Team': 0},\n",
    "    {'Person': 'Nome9',  'Age': 24, 'Team': 0},\n",
    "    {'Person': 'Nome10', 'Age': 20, 'Team': 0},\n",
    "    {'Person': 'Nome11', 'Age': 15, 'Team': 0},\n",
    "    {'Person': 'Nome12', 'Age': 40, 'Team': 0},\n",
    "    {'Person': 'Nome13', 'Age': 35, 'Team': 0},\n",
    "    {'Person': 'Nome14', 'Age': 20, 'Team': 0},\n",
    "    {'Person': 'Nome15', 'Age': 35, 'Team': 0},\n",
    "    {'Person': 'Nome16', 'Age': 40, 'Team': 0},\n",
    "    {'Person': 'Nome17', 'Age': 15, 'Team': 0},\n",
    "    {'Person': 'Nome18', 'Age': 36, 'Team': 0},\n",
    "    {'Person': 'Nome19', 'Age': 21, 'Team': 0},\n",
    "    {'Person': 'Nome20', 'Age': 31, 'Team': 0},\n",
    "    {'Person': 'Nome21', 'Age': 21, 'Team': 0},\n",
    "    {'Person': 'Nome22', 'Age': 31, 'Team': 0},\n",
    "    {'Person': 'Nome23', 'Age': 22, 'Team': 0},\n",
    "    {'Person': 'Nome24', 'Age': 33, 'Team': 0},\n",
    "    {'Person': 'Nome25', 'Age': 11, 'Team': 0},\n",
    "    {'Person': 'Nome26', 'Age': 12, 'Team': 0},\n",
    "    {'Person': 'Nome27', 'Age': 13, 'Team': 0},\n",
    "    {'Person': 'Nome28', 'Age': 14, 'Team': 0},\n",
    "    {'Person': 'Nome29', 'Age': 15, 'Team': 0},\n",
    "    {'Person': 'Nome30', 'Age': 16, 'Team': 0},\n",
    "]\n",
    "\n",
    "# Create a DataFrame for each row and add it to the list\n",
    "for row in data:\n",
    "    row_df = pd.DataFrame([row])\n",
    "    rows.append(row_df)\n",
    "\n",
    "# Concatenate all the row DataFrames\n",
    "df = pd.concat(rows, ignore_index=True)\n",
    "    \n",
    "df = df.sort_values('Age').reset_index(drop = True)\n",
    "\n",
    "print(\"People data: \")\n",
    "print(df)"
   ]
  },
  {
   "cell_type": "markdown",
   "id": "08a0af48-cf59-4cb2-82d1-c0e348fabab5",
   "metadata": {},
   "source": [
    "## Calcualate teams composition:\n",
    "This loop iterates over the rows of the DataFrame df. For each row, it performs the following actions:\n",
    "- Counts the number of people in each team and sorts the teams by this count.\n",
    "- If the current row's team is 0 (unassigned), it assigns the team with the least members to this person."
   ]
  },
  {
   "cell_type": "code",
   "execution_count": 5,
   "id": "ec984505-2b15-45dc-a5ba-0ef73af9d5b2",
   "metadata": {},
   "outputs": [
    {
     "name": "stdout",
     "output_type": "stream",
     "text": [
      "Team composition: \n",
      "    Person  Age  Team\n",
      "0   Nome25   11     1\n",
      "1   Nome26   12     2\n",
      "2   Nome27   13     1\n",
      "3   Nome28   14     2\n",
      "4   Nome17   15     1\n",
      "5   Nome29   15     2\n",
      "6   Nome11   15     1\n",
      "7   Nome30   16     2\n",
      "8    Nome6   16     1\n",
      "9   Nome10   20     2\n",
      "10  Nome14   20     1\n",
      "11  Nome19   21     2\n",
      "12   Nome5   21     1\n",
      "13  Nome21   21     2\n",
      "14  Nome23   22     1\n",
      "15   Nome3   23     2\n",
      "16   Nome9   24     1\n",
      "17   Nome1   25     1\n",
      "18   Nome7   27     2\n",
      "19  Nome20   31     1\n",
      "20  Nome22   31     2\n",
      "21  Nome24   33     1\n",
      "22   Nome2   34     2\n",
      "23  Nome13   35     2\n",
      "24   Nome4   35     1\n",
      "25  Nome15   35     2\n",
      "26  Nome18   36     1\n",
      "27   Nome8   38     2\n",
      "28  Nome16   40     1\n",
      "29  Nome12   40     2\n"
     ]
    }
   ],
   "source": [
    "for index, row in df.iterrows():\n",
    "    count_df = df[df['Team'] > 0].groupby(['Team']).size().reset_index(name='Count')\n",
    "    count_df = count_df.sort_values('Count').reset_index(drop = True)\n",
    "    if row['Team'] == 0:\n",
    "        df.at[index,'Team']=count_df.head()['Team'][0]\n",
    "\n",
    "print(\"Team composition: \")\n",
    "print(df)"
   ]
  },
  {
   "cell_type": "markdown",
   "id": "b2b3ec37-e434-416e-a5ea-c65610563f62",
   "metadata": {},
   "source": [
    "## Format output in a more suitable way:\n",
    "The DataFrame df is grouped by the 'Team' column. It then iterates over each group, printing the team name, the data for that team, and the average age of the team members."
   ]
  },
  {
   "cell_type": "code",
   "execution_count": 6,
   "id": "5eb1cc3e-dfbc-42f2-871f-595c7af265cc",
   "metadata": {},
   "outputs": [
    {
     "name": "stdout",
     "output_type": "stream",
     "text": [
      "Group Name: 1\n",
      "    Person  Age  Team\n",
      "0   Nome25   11     1\n",
      "2   Nome27   13     1\n",
      "4   Nome17   15     1\n",
      "6   Nome11   15     1\n",
      "8    Nome6   16     1\n",
      "10  Nome14   20     1\n",
      "12   Nome5   21     1\n",
      "14  Nome23   22     1\n",
      "16   Nome9   24     1\n",
      "17   Nome1   25     1\n",
      "19  Nome20   31     1\n",
      "21  Nome24   33     1\n",
      "24   Nome4   35     1\n",
      "26  Nome18   36     1\n",
      "28  Nome16   40     1\n",
      "Avg age: 23.8\n",
      "Group Name: 2\n",
      "    Person  Age  Team\n",
      "1   Nome26   12     2\n",
      "3   Nome28   14     2\n",
      "5   Nome29   15     2\n",
      "7   Nome30   16     2\n",
      "9   Nome10   20     2\n",
      "11  Nome19   21     2\n",
      "13  Nome21   21     2\n",
      "15   Nome3   23     2\n",
      "18   Nome7   27     2\n",
      "20  Nome22   31     2\n",
      "22   Nome2   34     2\n",
      "23  Nome13   35     2\n",
      "25  Nome15   35     2\n",
      "27   Nome8   38     2\n",
      "29  Nome12   40     2\n",
      "Avg age: 25.466666666666665\n"
     ]
    }
   ],
   "source": [
    "# Group the DataFrame by 'Name'\n",
    "grouped = df.groupby('Team')\n",
    "\n",
    "# Iterate over the groups and print the group name and corresponding data\n",
    "for team, group in grouped:\n",
    "    print(\"Group Name:\", team)\n",
    "    print(group)\n",
    "    print(\"Avg age:\", group['Age'].mean())"
   ]
  }
 ],
 "metadata": {
  "kernelspec": {
   "display_name": "Python 3 (ipykernel)",
   "language": "python",
   "name": "python3"
  },
  "language_info": {
   "codemirror_mode": {
    "name": "ipython",
    "version": 3
   },
   "file_extension": ".py",
   "mimetype": "text/x-python",
   "name": "python",
   "nbconvert_exporter": "python",
   "pygments_lexer": "ipython3",
   "version": "3.10.7"
  }
 },
 "nbformat": 4,
 "nbformat_minor": 5
}
